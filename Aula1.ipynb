{
  "nbformat": 4,
  "nbformat_minor": 0,
  "metadata": {
    "colab": {
      "provenance": [],
      "authorship_tag": "ABX9TyM/BdpV+ovxfOBEQVHnsRwv",
      "include_colab_link": true
    },
    "kernelspec": {
      "name": "python3",
      "display_name": "Python 3"
    },
    "language_info": {
      "name": "python"
    }
  },
  "cells": [
    {
      "cell_type": "markdown",
      "metadata": {
        "id": "view-in-github",
        "colab_type": "text"
      },
      "source": [
        "<a href=\"https://colab.research.google.com/github/Gabrielc476/materia-paradigmas/blob/main/Aula1.ipynb\" target=\"_parent\"><img src=\"https://colab.research.google.com/assets/colab-badge.svg\" alt=\"Open In Colab\"/></a>"
      ]
    },
    {
      "cell_type": "markdown",
      "source": [
        "# 1) fazer a leitura de duas notas e calcule a media"
      ],
      "metadata": {
        "id": "3K1RbRjZPmes"
      }
    },
    {
      "cell_type": "code",
      "execution_count": null,
      "metadata": {
        "colab": {
          "base_uri": "https://localhost:8080/"
        },
        "id": "MDL8XKUYO7Xv",
        "outputId": "233cc7dc-2225-43a6-a811-dbae1245b542"
      },
      "outputs": [
        {
          "output_type": "stream",
          "name": "stdout",
          "text": [
            "Informe a nota 15\n",
            "Informe a nota 27\n",
            "a media é: 6.0\n"
          ]
        }
      ],
      "source": [
        "#função pra calcular a media\n",
        "def media(num1, num2):\n",
        "    media = (num1 + num2)/2\n",
        "    print(f'a media é: {media}')\n",
        "\n",
        "#input do usuario\n",
        "num1 = float(input(\"Informe a nota 1\"))\n",
        "num2 = float(input(\"Informe a nota 2\"))\n",
        "\n",
        "#chamada da função\n",
        "media(num1, num2)"
      ]
    },
    {
      "cell_type": "markdown",
      "source": [
        "2) faça um programa que solicite o preço de uma mercadoria e o percentual de desconto. Exiba o valor do desconto e o preço a pagar"
      ],
      "metadata": {
        "id": "bjndaHVHR0yQ"
      }
    },
    {
      "cell_type": "code",
      "source": [
        "#Função pra calcular o desconto e o preço\n",
        "def calculo(preco, percdesconto):\n",
        "    percentual = 0\n",
        "    if percdesconto >= 1:\n",
        "        percentual = percdesconto / 100\n",
        "    else:\n",
        "      percentual = percdesconto\n",
        "    desconto = preco * percentual\n",
        "    precopagar = preco - desconto\n",
        "    print(f'O desconto é de {desconto} reais e o valor a pagar fica em {precopagar} reais')\n",
        "\n",
        "# input do usuario\n",
        "preco = float(input(\"informe o preço: \"))\n",
        "percdesconto = float(input(\"informe o percentual do desconto: \"))\n",
        "\n",
        "#chamada da função\n",
        "calculo(preco, percdesconto)"
      ],
      "metadata": {
        "id": "GnTu8mXPO9KI",
        "colab": {
          "base_uri": "https://localhost:8080/"
        },
        "outputId": "15790d46-da40-46ce-9bf7-1382e4e2d2dc"
      },
      "execution_count": null,
      "outputs": [
        {
          "output_type": "stream",
          "name": "stdout",
          "text": [
            "informe o preço: 250\n",
            "informe o percentual do desconto: 40\n",
            "O desconto é de 100.0 reais e o valor a pagar fica em 150.0 reais\n"
          ]
        }
      ]
    },
    {
      "cell_type": "markdown",
      "source": [
        "3) Escreva um programa para calcular a redução do tempo de vida de um fumante. Pergunte a quantidade de cigarros por dia e quantos anos ele já fumou. Considere que um fumante perde 10 minutos de vida a cada cigarro, e calcule quantos de vida um fumante perderá. Exiba o total em dias."
      ],
      "metadata": {
        "id": "sIXMDl6sU-Kw"
      }
    },
    {
      "cell_type": "code",
      "source": [
        "# função que recebe quantos cigarros por dia e a quantos anos fuma, imprime a quantidade de tempo reduzido de vida\n",
        "def reducao(cigarros, anos):\n",
        "  dias = anos * 365\n",
        "  quantcigarros = cigarros * dias\n",
        "  minutos = quantcigarros * 10\n",
        "  diasperdidos = minutos / 1440\n",
        "  print('O senhor fumante vai perder %d dias de vida' % diasperdidos)\n",
        "\n",
        "# input do usuario\n",
        "cigarros = int(input(\"Informe a quantidade de cigarros fumados por dia: \"))\n",
        "anos = int(input(\"Informe a quantos anos fuma: \"))\n",
        "\n",
        "#chamada da função\n",
        "reducao(cigarros,anos)"
      ],
      "metadata": {
        "colab": {
          "base_uri": "https://localhost:8080/"
        },
        "id": "Jqrfs_ZsVeVm",
        "outputId": "0d02b728-fe12-48d8-a79b-4446aa2d0613"
      },
      "execution_count": null,
      "outputs": [
        {
          "output_type": "stream",
          "name": "stdout",
          "text": [
            "Informe a quantidade de cigarros fumados por dia: 50\n",
            "Informe a quantos anos fuma: 10\n",
            "O senhor fumante vai perder 1267 dias de vida\n"
          ]
        }
      ]
    }
  ]
}