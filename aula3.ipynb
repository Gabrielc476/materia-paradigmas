{
  "nbformat": 4,
  "nbformat_minor": 0,
  "metadata": {
    "colab": {
      "provenance": [],
      "authorship_tag": "ABX9TyMgQn7IO6UgSeXNWMN/+YGp",
      "include_colab_link": true
    },
    "kernelspec": {
      "name": "python3",
      "display_name": "Python 3"
    },
    "language_info": {
      "name": "python"
    }
  },
  "cells": [
    {
      "cell_type": "markdown",
      "metadata": {
        "id": "view-in-github",
        "colab_type": "text"
      },
      "source": [
        "<a href=\"https://colab.research.google.com/github/Gabrielc476/materia-paradigmas/blob/main/aula3.ipynb\" target=\"_parent\"><img src=\"https://colab.research.google.com/assets/colab-badge.svg\" alt=\"Open In Colab\"/></a>"
      ]
    },
    {
      "cell_type": "markdown",
      "source": [
        "Lê um vetor de 8 posições e, em seguida,\n",
        "Lê dois valores X e Y quaisquer corrrespondentes a\n",
        "duas posições no vetor. O programa então imprime a soma\n",
        "dos valores encontrados nas respectivas posições X e Y."
      ],
      "metadata": {
        "id": "O6ZKH43NMa6I"
      }
    },
    {
      "cell_type": "code",
      "execution_count": 4,
      "metadata": {
        "colab": {
          "base_uri": "https://localhost:8080/"
        },
        "id": "nqLxlp-ZMB63",
        "outputId": "f76ce761-8677-48ef-ad3d-9fb0cb792a3c"
      },
      "outputs": [
        {
          "output_type": "stream",
          "name": "stdout",
          "text": [
            "digite a primeira posição de 1 a 8: 2\n",
            "digite a segunda posição de 1 a 8 sem repetir: 7\n",
            "A soma dos valores na posição 2 e na posição 7 é igual a 11\n"
          ]
        }
      ],
      "source": [
        "# função para calcular\n",
        "def soma(vetor, x, y):\n",
        "\n",
        "    resultado = vetor[x] + vetor[y]\n",
        "    print(f\"A soma dos valores na posição {x} e na posição {y} é igual a {resultado}\")\n",
        "\n",
        "vetor = [1,2,3,4,5,6,7,8]\n",
        "x = int(input(\"digite a primeira posição de 1 a 8: \"))\n",
        "y = int(input(\"digite a segunda posição de 1 a 8 sem repetir: \"))\n",
        "\n",
        "soma(vetor,x,y)\n",
        "\n"
      ]
    },
    {
      "cell_type": "markdown",
      "source": [
        "Faça um progama em Python que receba do usuario um vetor com 10 posições. Em seguida devera ser impresso o maior e o menor elemento do vetor. soma de todos os elementos, média de todos, número de elementos >= 5"
      ],
      "metadata": {
        "id": "zHR01Pgzk7hL"
      }
    },
    {
      "cell_type": "code",
      "source": [
        "# função para examinar o vetor\n",
        "def examinar(vetor):\n",
        "      maior = 0\n",
        "      menor = 999999\n",
        "      soma = 0\n",
        "\n",
        "      maiores = 0\n",
        "      for c in vetor:\n",
        "          if c > maior:\n",
        "            maior = c\n",
        "          if c < menor:\n",
        "            menor = c\n",
        "          if c >= 5:\n",
        "            maiores += 1\n",
        "          soma += c\n",
        "      media = soma / len(vetor)\n",
        "\n",
        "      print(f\"o maior valor do vetor é {maior} enquanto o menor é {menor}. A soma de todos os valores é {soma} a media é {media} e o numero de valores maiores ou iguais a 5 é {maiores}\")\n",
        "\n",
        "\n",
        "# função para criar o vetor\n",
        "def criar():\n",
        "  array = []\n",
        "  for c in range(10):\n",
        "    valor = int(input(\"digite um valor para colocar no vetor: \"))\n",
        "    array.append(valor)\n",
        "  return array\n",
        "\n",
        "vetor = criar()\n",
        "\n",
        "examinar(vetor)"
      ],
      "metadata": {
        "colab": {
          "base_uri": "https://localhost:8080/"
        },
        "id": "UGIIBhylmF3l",
        "outputId": "5e491613-88d9-468a-c106-1579e96924ae"
      },
      "execution_count": 6,
      "outputs": [
        {
          "output_type": "stream",
          "name": "stdout",
          "text": [
            "digite um valor para colocar no vetor50\n",
            "digite um valor para colocar no vetor10\n",
            "digite um valor para colocar no vetor2\n",
            "digite um valor para colocar no vetor8\n",
            "digite um valor para colocar no vetor25\n",
            "digite um valor para colocar no vetor47\n",
            "digite um valor para colocar no vetor132\n",
            "digite um valor para colocar no vetor200\n",
            "digite um valor para colocar no vetor4\n",
            "digite um valor para colocar no vetor3\n",
            "o maior valor do vetor é 200 enquanto o menor é 2. A soma de todos os valores é 481 a media é 48.1 e o numero de valores maiores que 5 é 7\n"
          ]
        }
      ]
    }
  ]
}