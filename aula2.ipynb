{
  "nbformat": 4,
  "nbformat_minor": 0,
  "metadata": {
    "colab": {
      "provenance": [],
      "authorship_tag": "ABX9TyNcAYZA4qX//wrVrd3Jg09N",
      "include_colab_link": true
    },
    "kernelspec": {
      "name": "python3",
      "display_name": "Python 3"
    },
    "language_info": {
      "name": "python"
    }
  },
  "cells": [
    {
      "cell_type": "markdown",
      "metadata": {
        "id": "view-in-github",
        "colab_type": "text"
      },
      "source": [
        "<a href=\"https://colab.research.google.com/github/Gabrielc476/materia-paradigmas/blob/main/aula2.ipynb\" target=\"_parent\"><img src=\"https://colab.research.google.com/assets/colab-badge.svg\" alt=\"Open In Colab\"/></a>"
      ]
    },
    {
      "cell_type": "markdown",
      "source": [
        "Escreva um progrma para controlar uma maquina registradora. Você deve solicitar\n",
        "ao usuário que digite o código e a quantidade comprada. Utilize a tabela de códigos para referencia do preço\n",
        "\n",
        "1-0.5,2-1.00,3-4.00,5-7.00,9-8.00"
      ],
      "metadata": {
        "id": "x4KmDlhPXZ4Y"
      }
    },
    {
      "cell_type": "code",
      "execution_count": 5,
      "metadata": {
        "colab": {
          "base_uri": "https://localhost:8080/"
        },
        "id": "QPt5E-QaRn19",
        "outputId": "12f669bd-5d23-45a7-affd-2d684fb66f01"
      },
      "outputs": [
        {
          "output_type": "stream",
          "name": "stdout",
          "text": [
            "digite o codigo do produto: 3\n",
            "digite a quantidade que você comprou: 5\n",
            "digite o codigo do produto: 9\n",
            "digite a quantidade que você comprou: 20\n",
            "digite o codigo do produto: 0\n",
            "digite a quantidade que você comprou: 0\n",
            "codigo invalido\n",
            "o preço a pagar vai ser: R$160\n"
          ]
        }
      ],
      "source": [
        "#função para verificar o codigo e quantidade e calcular o preço a pagar\n",
        "def maquina(codigo, quantidade):\n",
        "\n",
        "\n",
        "    preco = 0\n",
        "\n",
        "    while codigo != 0:\n",
        "      codigo = int(input(\"digite o codigo do produto: \"))\n",
        "      quantidade = int(input(\"digite a quantidade que você comprou: \"))\n",
        "      if codigo == 1:\n",
        "        preco += 0.5 * quantidade\n",
        "      elif codigo == 2:\n",
        "        preco += 1 * quantidade\n",
        "      elif codigo == 3:\n",
        "        preco += 4 * quantidade\n",
        "      elif codigo == 5:\n",
        "        preco += 7 * quantidade\n",
        "      elif codigo == 9:\n",
        "        preco += 8 * quantidade\n",
        "      else :\n",
        "        print(\"codigo invalido\")\n",
        "\n",
        "    print(f\"o preço a pagar vai ser: R${preco}\")\n",
        "\n",
        "#input do usuario\n",
        "codigo = int(input(\"digite o codigo do produto: \"))\n",
        "quantidade = int(input(\"digite a quantidade que você comprou: \"))\n",
        "\n",
        "#chamada da função\n",
        "maquina(codigo,quantidade)"
      ]
    }
  ]
}