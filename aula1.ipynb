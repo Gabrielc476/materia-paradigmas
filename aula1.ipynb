{
  "nbformat": 4,
  "nbformat_minor": 0,
  "metadata": {
    "colab": {
      "provenance": [],
      "authorship_tag": "ABX9TyPuJ3cz5oPgB/KyddkgDhUZ",
      "include_colab_link": true
    },
    "kernelspec": {
      "name": "python3",
      "display_name": "Python 3"
    },
    "language_info": {
      "name": "python"
    }
  },
  "cells": [
    {
      "cell_type": "markdown",
      "metadata": {
        "id": "view-in-github",
        "colab_type": "text"
      },
      "source": [
        "<a href=\"https://colab.research.google.com/github/Gabrielc476/materia-paradigmas/blob/main/aula1.ipynb\" target=\"_parent\"><img src=\"https://colab.research.google.com/assets/colab-badge.svg\" alt=\"Open In Colab\"/></a>"
      ]
    },
    {
      "cell_type": "markdown",
      "source": [
        "1) fzer a leitura de duas notas e calcule a media"
      ],
      "metadata": {
        "id": "3K1RbRjZPmes"
      }
    },
    {
      "cell_type": "code",
      "execution_count": null,
      "metadata": {
        "colab": {
          "base_uri": "https://localhost:8080/"
        },
        "id": "MDL8XKUYO7Xv",
        "outputId": "233cc7dc-2225-43a6-a811-dbae1245b542"
      },
      "outputs": [
        {
          "output_type": "stream",
          "name": "stdout",
          "text": [
            "Informe a nota 15\n",
            "Informe a nota 27\n",
            "a media é: 6.0\n"
          ]
        }
      ],
      "source": [
        "#função pra calcular a media\n",
        "def media(num1, num2):\n",
        "    media = (num1 + num2)/2\n",
        "    print(f'a media é: {media}')\n",
        "\n",
        "#input do usuario\n",
        "num1 = float(input(\"Informe a nota 1\"))\n",
        "num2 = float(input(\"Informe a nota 2\"))\n",
        "\n",
        "#chamada da função\n",
        "media(num1, num2)"
      ]
    },
    {
      "cell_type": "code",
      "source": [],
      "metadata": {
        "id": "GnTu8mXPO9KI"
      },
      "execution_count": null,
      "outputs": []
    }
  ]
}